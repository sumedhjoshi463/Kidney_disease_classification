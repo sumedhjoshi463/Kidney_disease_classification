{
 "cells": [
  {
   "cell_type": "code",
   "execution_count": 1,
   "metadata": {},
   "outputs": [],
   "source": [
    "#download data from google drive\n",
    "import gdown"
   ]
  },
  {
   "cell_type": "code",
   "execution_count": 2,
   "metadata": {},
   "outputs": [],
   "source": [
    "url = \"https://drive.google.com/file/d/1CkpNVNq2D_V3Vl6dR_wcV9bfCYsOkIWM/view?usp=drive_link\""
   ]
  },
  {
   "cell_type": "code",
   "execution_count": 5,
   "metadata": {},
   "outputs": [],
   "source": [
    "file_id = url.split(\"/\")[-2]"
   ]
  },
  {
   "cell_type": "code",
   "execution_count": 6,
   "metadata": {},
   "outputs": [
    {
     "data": {
      "text/plain": [
       "'1CkpNVNq2D_V3Vl6dR_wcV9bfCYsOkIWM'"
      ]
     },
     "execution_count": 6,
     "metadata": {},
     "output_type": "execute_result"
    }
   ],
   "source": [
    "file_id"
   ]
  },
  {
   "cell_type": "code",
   "execution_count": 7,
   "metadata": {},
   "outputs": [
    {
     "name": "stderr",
     "output_type": "stream",
     "text": [
      "Downloading...\n",
      "From (original): https://drive.google.com/uc?/export=download&id=1CkpNVNq2D_V3Vl6dR_wcV9bfCYsOkIWM\n",
      "From (redirected): https://drive.google.com/uc?/export=download&id=1CkpNVNq2D_V3Vl6dR_wcV9bfCYsOkIWM&confirm=t&uuid=3df13640-8a7e-448b-8336-8f7e1aa42ff2\n",
      "To: /home/sumedh/Documents/MLops_tutorial/Project_2/Kidney_disease_classification/research/kidney_data.zip\n",
      "100%|██████████| 62.3M/62.3M [05:00<00:00, 207kB/s]\n"
     ]
    },
    {
     "data": {
      "text/plain": [
       "'kidney_data.zip'"
      ]
     },
     "execution_count": 7,
     "metadata": {},
     "output_type": "execute_result"
    }
   ],
   "source": [
    "prefix = \"https://drive.google.com/uc?/export=download&id=\"\n",
    "gdown.download(prefix+file_id, \"kidney_data.zip\")"
   ]
  },
  {
   "cell_type": "code",
   "execution_count": 1,
   "metadata": {},
   "outputs": [],
   "source": [
    "import os"
   ]
  },
  {
   "cell_type": "code",
   "execution_count": 2,
   "metadata": {},
   "outputs": [],
   "source": [
    "os.environ['MLFLOW_TRACKING_URI'] = 'https://dagshub.com/sumedhjoshi463/Kidney_disease_classification.mlflow '\n",
    "os.environ['MLFLOW_TRACKING_USERNAME'] = 'sumedhjoshi463'\n",
    "os.environ['MLFLOW_TRACKING_PASSWORD'] = '0f775dbe7e2c5c4fd1cdd27877b3ee90821cbc07'"
   ]
  },
  {
   "cell_type": "code",
   "execution_count": null,
   "metadata": {},
   "outputs": [],
   "source": []
  }
 ],
 "metadata": {
  "kernelspec": {
   "display_name": "classification",
   "language": "python",
   "name": "python3"
  },
  "language_info": {
   "codemirror_mode": {
    "name": "ipython",
    "version": 3
   },
   "file_extension": ".py",
   "mimetype": "text/x-python",
   "name": "python",
   "nbconvert_exporter": "python",
   "pygments_lexer": "ipython3",
   "version": "3.8.18"
  }
 },
 "nbformat": 4,
 "nbformat_minor": 2
}
