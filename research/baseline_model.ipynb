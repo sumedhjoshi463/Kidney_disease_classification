{
 "cells": [
  {
   "cell_type": "code",
   "execution_count": null,
   "metadata": {},
   "outputs": [],
   "source": [
    "def get_base_model_config(self) -> PrepareBaseModelConfig:\n",
    "    config = self.config.prepare_base_model\n",
    "\n",
    "    create_directories([config.root_dir])\n",
    "\n",
    "    base_model_config = PrepareBaseModelConfig(\n",
    "        root_dir = Path(config.root_dir),\n",
    "        base_model= Path(config.base_model_path),\n",
    "        updated_base_model_path = Path(config.updated_base_model_path),\n",
    "        params_image_size = self.params.IMAGE_SIZE,\n",
    "        params_learning_rate = self.params.LEARNING_RATE,\n",
    "        params_include_top = self.params.INCLUDE_TOP,\n",
    "        params_weights = self.params.WEIGHTS,\n",
    "        params_classes = self.params.CLASSES\n",
    "    )\n",
    "    return base_model_config"
   ]
  }
 ],
 "metadata": {
  "kernelspec": {
   "display_name": "classification",
   "language": "python",
   "name": "python3"
  },
  "language_info": {
   "name": "python",
   "version": "3.8.18"
  }
 },
 "nbformat": 4,
 "nbformat_minor": 2
}
